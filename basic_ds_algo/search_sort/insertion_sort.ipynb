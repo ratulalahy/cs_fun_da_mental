{
  "nbformat": 4,
  "nbformat_minor": 0,
  "metadata": {
    "colab": {
      "name": "insertion_sort.ipynb",
      "provenance": [],
      "collapsed_sections": [],
      "authorship_tag": "ABX9TyNWsmauBjFfBsQBKoXmXnvE",
      "include_colab_link": true
    },
    "kernelspec": {
      "name": "python3",
      "display_name": "Python 3"
    }
  },
  "cells": [
    {
      "cell_type": "markdown",
      "metadata": {
        "id": "view-in-github",
        "colab_type": "text"
      },
      "source": [
        "<a href=\"https://colab.research.google.com/github/ratulalahy/cs_fun_da_mental/blob/master/basic_ds_algo/search_sort/insertion_sort.ipynb\" target=\"_parent\"><img src=\"https://colab.research.google.com/assets/colab-badge.svg\" alt=\"Open In Colab\"/></a>"
      ]
    },
    {
      "cell_type": "markdown",
      "metadata": {
        "id": "U9xMz8dk3qEI",
        "colab_type": "text"
      },
      "source": [
        "### From CLSR"
      ]
    },
    {
      "cell_type": "markdown",
      "metadata": {
        "id": "lh81YC-43y85",
        "colab_type": "text"
      },
      "source": [
        "Here is the demonestration from CLSR page 18"
      ]
    },
    {
      "cell_type": "markdown",
      "metadata": {
        "id": "lSwcaCUZ7-Eo",
        "colab_type": "text"
      },
      "source": [
        "![ALgo from CLSR](https://drive.google.com/uc?export=view&id=1PriIC6udsJfaj1BPR4_D7nSYXF190uzm)"
      ]
    },
    {
      "cell_type": "markdown",
      "metadata": {
        "id": "7zK36Rnn2EoP",
        "colab_type": "text"
      },
      "source": [
        "![ALgo from CLSR](https://drive.google.com/uc?export=view&id=1in5SmultmgsdiDHLW9WX14vVCJKrB2eV)"
      ]
    },
    {
      "cell_type": "markdown",
      "metadata": {
        "id": "HZtlSmEO4SMe",
        "colab_type": "text"
      },
      "source": [
        "Here is the pseudo code from CLSR"
      ]
    },
    {
      "cell_type": "markdown",
      "metadata": {
        "id": "m1NQKunn2Eq8",
        "colab_type": "text"
      },
      "source": [
        "![ALgo from CLSR](https://drive.google.com/uc?export=view&id=1zBmUJ3rspTd4L-AKvGV5onT2HsIAuV1s)"
      ]
    },
    {
      "cell_type": "markdown",
      "metadata": {
        "id": "nmDkSJJP4Xgm",
        "colab_type": "text"
      },
      "source": [
        "### Basic python implementation"
      ]
    },
    {
      "cell_type": "markdown",
      "metadata": {
        "id": "pEHjQM9x-w9-",
        "colab_type": "text"
      },
      "source": [
        "#### Translation of psudocode to python"
      ]
    },
    {
      "cell_type": "code",
      "metadata": {
        "id": "aj7zEyw6dTko",
        "colab_type": "code",
        "colab": {}
      },
      "source": [
        "def insertion_sort(ary):\n",
        "    # starting from second element as every itteration we are placing j element to the right position in the array\n",
        "    for j in range(1 ,len(ary)):\n",
        "        key = ary[j]\n",
        "        i = j-1\n",
        "        while (i >= 0) and (ary[i] > key):\n",
        "            ary[i+1] = ary[i]\n",
        "            i = i - 1\n",
        "        # error prone :P\n",
        "        ary[i+1] = key\n"
      ],
      "execution_count": 51,
      "outputs": []
    },
    {
      "cell_type": "code",
      "metadata": {
        "id": "yLuOMiIOLnvp",
        "colab_type": "code",
        "colab": {}
      },
      "source": [
        "input = [3,2,10,18,16,7,9]"
      ],
      "execution_count": 55,
      "outputs": []
    },
    {
      "cell_type": "code",
      "metadata": {
        "id": "FpLetoaqLv_f",
        "colab_type": "code",
        "colab": {}
      },
      "source": [
        "insertion_sort(input)"
      ],
      "execution_count": 56,
      "outputs": []
    },
    {
      "cell_type": "code",
      "metadata": {
        "id": "LNR_cHfgLy13",
        "colab_type": "code",
        "colab": {
          "base_uri": "https://localhost:8080/",
          "height": 34
        },
        "outputId": "fa1a60aa-0074-47a0-8080-7b6a55fe8dd3"
      },
      "source": [
        "print(input)"
      ],
      "execution_count": 57,
      "outputs": [
        {
          "output_type": "stream",
          "text": [
            "[2, 3, 7, 9, 10, 16, 18]\n"
          ],
          "name": "stdout"
        }
      ]
    },
    {
      "cell_type": "markdown",
      "metadata": {
        "id": "lddT36vfQPoZ",
        "colab_type": "text"
      },
      "source": [
        "### Complexity analysis\n",
        "In worst case insertion sort \n",
        "\n",
        "\n",
        "*   compares `n-1` items\n",
        "    *   swaps `n` items\n",
        "\n",
        "So the complexity is: $O({n^2})$\n",
        "\n",
        "Doesn't need any extra space. So space complexity: $O(1)$\n"
      ]
    },
    {
      "cell_type": "code",
      "metadata": {
        "id": "NvIHraofPSCt",
        "colab_type": "code",
        "colab": {}
      },
      "source": [
        ""
      ],
      "execution_count": null,
      "outputs": []
    }
  ]
}